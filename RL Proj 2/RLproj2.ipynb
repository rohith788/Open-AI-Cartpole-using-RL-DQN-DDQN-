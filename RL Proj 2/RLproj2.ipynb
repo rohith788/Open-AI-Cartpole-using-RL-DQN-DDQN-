{
 "cells": [
  {
   "cell_type": "markdown",
   "metadata": {},
   "source": [
    "Rohith Suresh\n",
    "UB# 50314092"
   ]
  },
  {
   "cell_type": "markdown",
   "metadata": {},
   "source": [
    "The Gym Environments used here are 'CartPolev0' and 'CartPolev1'. 'CartPolev0' has a maximum score of 200 and has a threshold of 195 to be considered solved. 'CartPolev1' has a max score of 500 and a threshold of 475 to be considered solved. 'CartPolev0' has been solved in both DQN  and Double DQN."
   ]
  },
  {
   "cell_type": "code",
   "execution_count": 1,
   "metadata": {
    "colab": {},
    "colab_type": "code",
    "id": "r7uayfARpjdH",
    "outputId": "e0927e36-bcc9-489e-ea0a-e7de100497c4"
   },
   "outputs": [
    {
     "name": "stderr",
     "output_type": "stream",
     "text": [
      "Using TensorFlow backend.\n"
     ]
    }
   ],
   "source": [
    "import random\n",
    "import gym\n",
    "import numpy as np\n",
    "from collections import deque\n",
    "import tensorflow as tf\n",
    "from tensorflow import keras\n",
    "from IPython.display import clear_output\n",
    "from keras.models     import Sequential\n",
    "from keras.layers     import Input, Dense\n",
    "from keras.optimizers import Adam\n",
    "\n",
    "from IPython.display import clear_output\n",
    "import random\n",
    "import time\n",
    "from matplotlib import pylab\n",
    "import matplotlib.pyplot as plt \n",
    "import os.path"
   ]
  },
  {
   "cell_type": "markdown",
   "metadata": {
    "colab_type": "text",
    "id": "mHdCVWGepjdM"
   },
   "source": [
    "## Hyperparameters common for both the Models and Parts##"
   ]
  },
  {
   "cell_type": "markdown",
   "metadata": {
    "colab_type": "text",
    "id": "cLWiVk96sX8l"
   },
   "source": [
    "These Hyperparameters play a very important role in training the model. The learning rate qill decide how fast or slow the model will reach the global minimum. Too high a Learning Rate may also casue over-shooting. \n",
    "\n",
    "Discount Value determinis how much reward the agent is going to get.\n",
    "\n",
    "Exp_rate is the percentage of Exploration vs Exploitation. Here, 1 means 100% and the Deacy value determines the amount the Expt_rate will decrease per spisode to balance Exploration vs Exploitation. Min_Decay determines the minimum exploration percentage for the agent. Here, the minimum Exploration is 1% no matter what the decay.\n",
    "\n",
    "The Batch Size is the number for steps to be trained at a time.\n",
    "\n",
    "Episodes is the number of times the model will execute to be trained.\n",
    "\n"
   ]
  },
  {
   "cell_type": "code",
   "execution_count": 2,
   "metadata": {
    "colab": {},
    "colab_type": "code",
    "id": "As2HP-AxpjdN"
   },
   "outputs": [],
   "source": [
    "LERNING_RATE = 0.001\n",
    "DISCOUNT = 0.95\n",
    "EXP_RATE = 1.0\n",
    "DECAY = 0.995\n",
    "MIN_DECAY = 0.01\n",
    "BATCH_SIZE = 64\n",
    "EPISODES = 5000"
   ]
  },
  {
   "cell_type": "markdown",
   "metadata": {
    "colab_type": "text",
    "id": "IlFdg1Mbp83P"
   },
   "source": [
    "## Model 1 Part 2 and 3"
   ]
  },
  {
   "cell_type": "markdown",
   "metadata": {
    "colab_type": "text",
    "id": "-3VJY6rKrprN"
   },
   "source": [
    "Change DDQN to True to use Double DQN or comment this part to use DQN on Model 2"
   ]
  },
  {
   "cell_type": "code",
   "execution_count": 0,
   "metadata": {
    "colab": {},
    "colab_type": "code",
    "id": "pAi6JenNpjdQ"
   },
   "outputs": [],
   "source": [
    "################################### THIS DDQN ########################################\n",
    "\n",
    "\n",
    "# FILE = 'CartPolev0Double3.h5'\n",
    "# ENV = 'CartPole-v0'\n",
    "# DDQN = False\n",
    "# ENV_MAX_AVG = 195"
   ]
  },
  {
   "cell_type": "code",
   "execution_count": 3,
   "metadata": {},
   "outputs": [],
   "source": [
    "################################### THIS DQN ########################################\n",
    "\n",
    "\n",
    "FILE = 'CartPolev03---.h5'\n",
    "ENV = 'CartPole-v0'\n",
    "DDQN = False\n",
    "ENV_MAX_AVG = 195"
   ]
  },
  {
   "cell_type": "markdown",
   "metadata": {
    "colab_type": "text",
    "id": "lv8835Pvr91T"
   },
   "source": [
    "Uncomment this on use DQN on Model 2\n"
   ]
  },
  {
   "cell_type": "code",
   "execution_count": 11,
   "metadata": {
    "colab": {},
    "colab_type": "code",
    "id": "xflSUyGFpjdS"
   },
   "outputs": [],
   "source": [
    "# FILE = 'CartPolev1_1.h5'\n",
    "# ENV = 'CartPole-v1'\n",
    "# ENV_MAX_AVG = 475\n",
    "# DDQN = False"
   ]
  },
  {
   "cell_type": "markdown",
   "metadata": {
    "colab_type": "text",
    "id": "syg8mOdpwbtt"
   },
   "source": [
    "## Basic Deep Q-Network (Part 1.1)"
   ]
  },
  {
   "cell_type": "markdown",
   "metadata": {
    "colab_type": "text",
    "id": "zEoW5n3_wkQx"
   },
   "source": [
    "This Class contains the Deep Learning Neural Network. The Neural Network has 1 hidden layer with 512 nodes. This is pretty shallow network but it works for the given model. The activation functions used are Relu and Linear for the output layer. The loss function used here is Mean Square Error. \n",
    "There two neural networks used here, one for the q_value and another for the target q_value. \n",
    "\n",
    "The act function chosses the action to do for that step based Exploration and Exploitation. For exploration, the action is choosen randomly and for exploiation, the action is predicted by the neural network. \n",
    "\n",
    "The get_q_value function, returns the q_value(Q_max = reward + gamma * Q_max). This is the party that varies for DQN and Double DQN. Double DQN is supposed to help the Neural Network learn faster. \n",
    "\n",
    "The Replay function is were the learning happens. The data stored in to memory is removed in batches and the q_value(s) is/are calulated before the model is trained. Here the Q_value and Max(Q_value), both are predicted by tyhe neural networks. This the main part where the nertorks are trained.\n"
   ]
  },
  {
   "cell_type": "code",
   "execution_count": 6,
   "metadata": {
    "colab": {},
    "colab_type": "code",
    "id": "3WIuZxSbpjdW"
   },
   "outputs": [],
   "source": [
    "class DQN_agent():\n",
    "  def __init__(self, s_size, a_size):\n",
    "    self.s_size = s_size\n",
    "    self.a_size = a_size\n",
    "    self.lr = LERNING_RATE\n",
    "    self.g = DISCOUNT\n",
    "    self.exp = EXP_RATE\n",
    "    self.exp_d = DECAY\n",
    "    self.exp_min = MIN_DECAY\n",
    "    self.storage = deque(maxlen = 20000)\n",
    "    self.neural_net = self.neural()\n",
    "    self.neural_net.compile(loss='mse', optimizer=Adam(lr=self.lr), metrics = ['accuracy'])\n",
    "    self.target_nn = self.neural()\n",
    "    self.target_nn.compile(loss='mse', optimizer=Adam(lr=self.lr), metrics = ['accuracy'])\n",
    "    # self.target_nn = self.weight_update()\n",
    "    self.target_nn.set_weights(self.neural_net.get_weights())\n",
    "    self.double = DDQN\n",
    "    self.counter = 0\n",
    "  \n",
    "  def neural(self):\n",
    "    model = Sequential()\n",
    "    model.add(Dense(10, input_dim=self.s_size, activation='relu'))\n",
    "    model.add(Dense(10, activation='relu'))\n",
    "    model.add(Dense(self.a_size, activation='linear'))\n",
    "#     model.summary()\n",
    "\n",
    "    if os.path.isfile(FILE):\n",
    "      print(\"loaded model\")\n",
    "      model.load_weights(FILE)\n",
    "      self.exp = self.exp_min\n",
    "\n",
    "    return model\n",
    "    \n",
    "\n",
    "\n",
    "  def action(self,state):\n",
    "    rand_variable = np.random.rand()\n",
    "    if rand_variable <= self.exp:\n",
    "      return random.randrange(self.a_size)\n",
    "    \n",
    "    v = self.neural_net.predict(state)\n",
    "    return np.argmax(v[0])\n",
    "\n",
    "  def store(self, s, a, r, _s, d):\n",
    "    self.storage.append((s, a, r, _s, d))\n",
    "\n",
    "\n",
    "  def get_q_value(self, next_state, reward):\n",
    "    if self.double:\n",
    "      action = np.argmax(self.neural_net.predict(next_state)[0])\n",
    "      q_value = self.target_nn.predict(next_state)[0][action]\n",
    "    else:\n",
    "      q_value = np.amax(self.target_nn.predict(next_state)[0])\n",
    "    \n",
    "    q_value *= self.g\n",
    "    q_value += reward\n",
    "    return q_value\n",
    "\n",
    "  def exp_replay(self, batch_s = BATCH_SIZE):\n",
    "    state_batch, target_batch = [], []\n",
    "    if len(self.storage) < batch_s:\n",
    "      return\n",
    "    sample_batch = random.sample(self.storage, batch_s)\n",
    "    for state, action, reward, next_state, done in sample_batch:\n",
    "      target_f = self.neural_net.predict(state)\n",
    "      target = self.get_q_value(next_state, reward)\n",
    "      if not done:\n",
    "        target_f[0][action] = target\n",
    "      elif done:\n",
    "        target_f[0][action] = reward\n",
    "      \n",
    "      state_batch.append(state[0])\n",
    "      target_batch.append(target_f[0])\n",
    "    self.neural_net.fit(np.array(state_batch), np.array(target_batch), batch_size = BATCH_SIZE, epochs=1, verbose=0)\n",
    "    \n",
    "    if self.exp > self.exp_min:\n",
    "      self.exp *= self.exp_d\n",
    "\n",
    "    if(self.counter % 10 == 0):\n",
    "      self.target_nn.set_weights(self.neural_net.get_weights())\n",
    "\n",
    "    self.counter += 1\n"
   ]
  },
  {
   "cell_type": "markdown",
   "metadata": {
    "colab_type": "text",
    "id": "izS9yyzw1U8V"
   },
   "source": [
    "# Implementing GYM environments with DQN/DDQN (Part 1.2)"
   ]
  },
  {
   "cell_type": "markdown",
   "metadata": {
    "colab_type": "text",
    "id": "PiS5sXNt1i29"
   },
   "source": [
    "The environment, states, actions are provided bt the Open AI Gym environment. The environment also provides Step function that givesthe information of the agent when the given action is taken in the environment. There are 2 loops, one for the episode and the other for the steps in that episode. The moving average for the past 100 episodes is calculated with the past 100 scores. This will determine if the agent is being trained."
   ]
  },
  {
   "cell_type": "code",
   "execution_count": null,
   "metadata": {
    "colab": {},
    "colab_type": "code",
    "id": "yvmosqgZpjdY"
   },
   "outputs": [],
   "source": [
    "ep = EPISODES \n",
    "env = gym.make(ENV)\n",
    "obs_size = env.observation_space.shape[0]\n",
    "action_size = env.action_space.n\n",
    "player = DQN_agent(obs_size, action_size)\n",
    "score = 0\n",
    "ep_avg = []\n",
    "sc_for_graph = []\n",
    "score_h = deque(maxlen = 100)\n",
    "count = 0\n",
    "\n",
    "try:\n",
    "  for e in range(1, ep):\n",
    "    S = np.reshape(env.reset(), [1, obs_size])\n",
    "    i = 1000\n",
    "    score = 0\n",
    "    for j in range(i):\n",
    "      A = player.action(S)\n",
    "      _S, R, done, info = env.step(A)\n",
    "      _S = np.reshape(_S, [1, obs_size])\n",
    "      player.store(S, A, R, _S, done)\n",
    "      S = _S\n",
    "      score += R\n",
    "      if done:\n",
    "        break\n",
    "    sc_for_graph.append(score)\n",
    "    score_h.append(score)\n",
    "    if(e > 99):\n",
    "      ep_avg.append(np.mean(score_h))\n",
    "    player.exp_replay()\n",
    "    if(np.mean(score_h) >= ENV_MAX_AVG):\n",
    "      print(\"solved at episode: \", e,\" with avg: \", score_h)\n",
    "      player.neural_net.save(FILE,overwrite = True)\n",
    "      count += 1\n",
    "    \n",
    "    if(count == 2):\n",
    "        player.neural_net.save(FILE,overwrite = True)\n",
    "        break\n",
    "\n",
    "    print(\"Ep {}/{}# Score:{}\".format(e, ep, score))\n",
    "    if(e > 99):\n",
    "        print(\"moving avg is:  \", np.mean(score_h))\n",
    "        plt.figure(2)\n",
    "        plt.clf()\n",
    "        plt.plot(sc_for_graph)\n",
    "        plt.plot(ep_avg)\n",
    "        plt.show()\n",
    "        time.sleep(0.3)\n",
    "        clear_output()\n",
    "finally:\n",
    "  player.neural_net.save(FILE,overwrite = True)\n",
    "\n"
   ]
  },
  {
   "cell_type": "code",
   "execution_count": 14,
   "metadata": {
    "colab": {},
    "colab_type": "code",
    "id": "1w8101Anpjda",
    "scrolled": true
   },
   "outputs": [
    {
     "data": {
      "image/png": "[encoded data removed]",
      "text/plain": [
       "<Figure size 432x288 with 1 Axes>"
      ]
     },
     "metadata": {
      "needs_background": "light"
     },
     "output_type": "display_data"
    }
   ],
   "source": [
    "#   player.neural_net.save(\"zero.h5\",overwrite = True)\n",
    "fig = plt.figure(2)\n",
    "plt.clf()\n",
    "plt.plot(sc_for_graph)\n",
    "plt.plot(ep_avg)\n",
    "plt.show()\n",
    "fig.savefig('plotDQNv1.png')\n"
   ]
  },
  {
   "cell_type": "markdown",
   "metadata": {
    "colab_type": "text",
    "id": "pM3eqZvK3kyP"
   },
   "source": [
    "## Result"
   ]
  },
  {
   "cell_type": "markdown",
   "metadata": {
    "colab_type": "text",
    "id": "-n8T70pI3tYE"
   },
   "source": [
    "The Model we are using to compare DQN and Double DQN is Cartpole-v0. When we are using DDQN, we can see that the agent is able to solve the environment faster then when using DQN. And also when we use DDQN, we  can see that the predictions are more stable. \n",
    "When we use DQN, there are many times that he moving average falls from a high value. But, in a DDQN model the average value raises constantly. This proves the the predictions in DDQN is more accurate.\n"
   ]
  },
  {
   "cell_type": "markdown",
   "metadata": {
    "colab_type": "text",
    "id": "R8KLcnAwq7X4"
   },
   "source": [
    "## Test"
   ]
  },
  {
   "cell_type": "markdown",
   "metadata": {},
   "source": [
    "Use this block to run the trained model. The trained neural net can be used by loading the saved weights in the folder can be used by uncommenting the block above"
   ]
  },
  {
   "cell_type": "code",
   "execution_count": 17,
   "metadata": {
    "colab": {},
    "colab_type": "code",
    "id": "X-uG34xEq6XI"
   },
   "outputs": [
    {
     "name": "stdout",
     "output_type": "stream",
     "text": [
      "Score:  475.0\n"
     ]
    }
   ],
   "source": [
    "def test_neural(s_size, a_size):\n",
    "    model = Sequential()\n",
    "    model.add(Dense(512, input_dim = s_size, activation='relu'))\n",
    "#     model.add(Dense(256, activation='relu'))\n",
    "    model.add(Dense(a_size, activation='linear'))\n",
    "    model.compile(loss='mse', optimizer=Adam(lr=0.001), metrics = ['accuracy'])\n",
    "    return model\n",
    "\n",
    "eval_env = gym.make(ENV)\n",
    "eval_obs_size = eval_env.observation_space.shape[0]\n",
    "eval_action_size = eval_env.action_space.n\n",
    "eS = np.reshape(eval_env.reset(), [1, eval_obs_size])\n",
    "model_n = test_neural(eval_obs_size, eval_action_size)\n",
    "model_n.load_weights(FILE)\n",
    "score = 0\n",
    "    \n",
    "i = ENV_MAX    \n",
    "for j in range(i):\n",
    "    eval_env.render()\n",
    "    value = model_n.predict(eS)\n",
    "    eA = np.argmax(value[0])\n",
    "    e_S, eR, done, info = eval_env.step(eA)\n",
    "    e_S = np.reshape(e_S, [1, eval_obs_size])\n",
    "    eS = e_S\n",
    "    score += eR\n",
    "#     if done:\n",
    "#         break\n",
    "eval_env.close()        \n",
    "print(\"Score: \", score)"
   ]
  }
 ],
 "metadata": {
  "colab": {
   "name": "Untitled.ipynb",
   "provenance": []
  },
  "kernelspec": {
   "display_name": "Python 3",
   "language": "python",
   "name": "python3"
  },
  "language_info": {
   "codemirror_mode": {
    "name": "ipython",
    "version": 3
   },
   "file_extension": ".py",
   "mimetype": "text/x-python",
   "name": "python",
   "nbconvert_exporter": "python",
   "pygments_lexer": "ipython3",
   "version": "3.7.3"
  }
 },
 "nbformat": 4,
 "nbformat_minor": 1
}
